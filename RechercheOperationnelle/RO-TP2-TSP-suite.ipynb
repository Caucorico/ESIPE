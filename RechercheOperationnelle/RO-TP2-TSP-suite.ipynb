{
 "cells": [
  {
   "cell_type": "markdown",
   "metadata": {},
   "source": [
    "# Problème du voyageur de commerce (suite)\n",
    "\n",
    "On reprend le problème TSP de la semaine dernière. Ci-dessous une correction des parties 1-3 pour pouvoir aller directement sur la partie 4, avec l'heuristique des algorithmes génétiques."
   ]
  },
  {
   "cell_type": "code",
   "execution_count": 3,
   "metadata": {},
   "outputs": [],
   "source": [
    "from random import *\n",
    "from math import *\n",
    "from time import *\n",
    "import matplotlib.pyplot as plt\n",
    "\n",
    "def random_instance_TSP(n): \n",
    "    return [(random(),random()) for _ in range(n)]\n",
    "\n",
    "def distance(P1,P2): # à vous de jouer\n",
    "    return sqrt((P1[0]-P2[0])**2 + (P1[1]-P2[1])**2 )\n",
    "\n",
    "def path_length(P, o): # à vous de jouer\n",
    "    l = 0\n",
    "    for i in range(len(P)):\n",
    "        j = (i+1) % len(P)\n",
    "        l += distance(P[o[i]], P[o[j]])\n",
    "    return l\n",
    "\n",
    "def draw_instance_TSP(P, o): \n",
    "    lx = [P[i][0] for i in o]\n",
    "    ly = [P[i][1] for i in o]\n",
    "    lx.append(lx[0])\n",
    "    ly.append(ly[0])\n",
    "    plt.axis([0, 1, 0, 1])\n",
    "    plt.axis('equal')\n",
    "    plt.plot(lx,ly,marker='',linestyle='-',color='blue')\n",
    "    plt.plot(lx,ly,marker='o',linestyle='',color='red')\n",
    "    plt.show()\n",
    "    \n",
    "def list_orders(n): \n",
    "    if n == 1:\n",
    "        return [[0]]\n",
    "    L = list_orders(n-1)\n",
    "    R = []\n",
    "    for o in L:\n",
    "        for i in range(n):\n",
    "            q = o[:]\n",
    "            q.append(n-1)\n",
    "            q[i], q[-1] = q[-1], q[i]\n",
    "            R.append(q)\n",
    "    return R\n",
    "\n",
    "def list_orders_optimized(n): \n",
    "    # only orders ending by n-1 \n",
    "    if n <= 2:\n",
    "        return [list(range(n))]\n",
    "    L = list_orders(n-1)\n",
    "    for p in L:\n",
    "        p.append(n-1)\n",
    "    return L\n",
    "\n",
    "def TSP_brute_force(P): \n",
    "    orders = list_orders_optimized(len(P))\n",
    "    best_path, best_length = None, None\n",
    "    for path in orders:\n",
    "        length = path_length(P, path)\n",
    "        if best_length is None or best_length > length:\n",
    "            best_path, best_length = path, length\n",
    "    return best_path\n",
    "\n",
    "def TSP_randomized(P, amount_of_time):\n",
    "    start_time = time()\n",
    "    order = list(range(len(P)))\n",
    "    best_order = order[:]\n",
    "    best_length = path_length(P, best_order)\n",
    "    while time() - start_time < amount_of_time:\n",
    "        shuffle(order)\n",
    "        length = path_length(P, order)\n",
    "        if length < best_length:\n",
    "            best_order, best_length = order[:], length\n",
    "    return best_order"
   ]
  },
  {
   "cell_type": "markdown",
   "metadata": {},
   "source": [
    "Pour tester pendant 10 secondes sur une instance avec 15 villes :"
   ]
  },
  {
   "cell_type": "code",
   "execution_count": null,
   "metadata": {},
   "outputs": [],
   "source": [
    "P = random_instance_TSP(15)\n",
    "best_random = TSP_randomized(P, 10)\n",
    "draw_instance_TSP(P,best_random)"
   ]
  },
  {
   "cell_type": "markdown",
   "metadata": {},
   "source": [
    "## 4. Algorithme génétique\n",
    "\n",
    "Il existe beaucoup de méthodes heuristiques pour essayer sinon de résoudre le problème TSP, au moins d'en donner une solution pas trop loin de l'optimal. Nous allons maintenant étudier une de ces méthodes, qui n'est pas forcément la plus efficace, mais qui est assez générique.\n",
    "\n",
    "**Question 8.** Ecrire une fonction `rand_order_end_max(n)` qui retourne un ordre aléatoire parmi ceux qui terminent par $n-1$."
   ]
  },
  {
   "cell_type": "code",
   "execution_count": 5,
   "metadata": {},
   "outputs": [
    {
     "name": "stdout",
     "output_type": "stream",
     "text": [
      "[4, 0, 3, 1, 2, 5, 7, 6, 8, 9]\n",
      "[3, 7, 2, 6, 1, 0, 5, 8, 4, 9]\n",
      "[5, 6, 8, 1, 2, 3, 0, 4, 7, 9]\n",
      "[2, 4, 7, 0, 3, 8, 1, 5, 6, 9]\n",
      "[2, 3, 1, 5, 4, 0, 8, 6, 7, 9]\n",
      "[3, 8, 0, 1, 5, 6, 2, 4, 7, 9]\n",
      "[4, 0, 8, 3, 6, 7, 5, 1, 2, 9]\n",
      "[6, 1, 0, 3, 8, 4, 2, 7, 5, 9]\n",
      "[0, 8, 2, 3, 5, 7, 6, 4, 1, 9]\n",
      "[3, 5, 7, 8, 2, 0, 1, 4, 6, 9]\n"
     ]
    }
   ],
   "source": [
    "def rand_order_end_max(n): # à vous de jouer\n",
    "    rand_order = list(range(n-1))\n",
    "    \n",
    "    shuffle(rand_order)\n",
    "    rand_order.append(n-1)\n",
    "    \n",
    "    return rand_order\n",
    "\n",
    "# pour tester, vérifiez qu'ils terminent bien tous par 9 et qu'ils ont l'air \"mélangés\"\n",
    "for _ in range(10):\n",
    "    print(rand_order_end_max(10))"
   ]
  },
  {
   "cell_type": "markdown",
   "metadata": {},
   "source": [
    "On cherche à mettre au point un *algorithme génétique*. L'idée de telles heuristiques est de mimer l'évolution d'un espèce. Pour cela il faut :\n",
    "- une **population** : pour nous ce sera une liste d'ordres (avec leur score = longueur du chemin associé)\n",
    "- une fonction de **reproduction** : pour créer un nouvel ordre à partir de deux parents \n",
    "- une fonction de **mutation** : pour modifier un peu un ordre\n",
    "\n",
    "Le principe, décrit en détail plus bas, consiste en une série de générations où on élimine les individus les plus faibles, on fait se reproduire les survivants, on fait muter quelques individus, et on fait venir quelques étrangers (pour varier les gènes). \n",
    "\n",
    "**Question 9.** Ecrire une fonction `reproduce_ij(o1, o2, i, j)` qui prend en argument deux ordres de même taille $n$ appelés  $o_1$ et $o_2$ et deux indices $i$ et $j$ avec $0\\leq i \\leq j < n$. La fonction créé un nouvel ordre $o$ à partir de $o_1$ et de $o_2$ de la façon suivante :\n",
    "- les valeurs de $o$ entre les indices $i$ et $j$ sont les mêmes que dans $o_1$\n",
    "- les autres valeurs de $o$ apparaissent dans le même ordre que dans $o_2$\n",
    "\n",
    "Par exemple :\n",
    "$$\n",
    "\\begin{array}{c|cccccc}\n",
    "& & & i & & j & \\\\\n",
    "\\hline\n",
    "o_1 & 4 & 5 & 0 & 3 & 1 & 2 \\\\\n",
    "o_2 & 1 & 4 & 2 & 0 & 5 & 3 \\\\\n",
    "\\end{array}\n",
    "\\qquad\n",
    "\\longrightarrow\n",
    "\\qquad\n",
    "\\begin{array}{c|cccccc}\n",
    "& & & i & & j & \\\\\n",
    "\\hline\n",
    "o & 4 & 2 & 0 & 3 & 1 & 5 \n",
    "\\end{array}\n",
    "$$\n",
    "\n",
    "**Important :** essayez de faire une fonction efficace, c'est crucial pour l'efficacité de la méthode. "
   ]
  },
  {
   "cell_type": "code",
   "execution_count": 7,
   "metadata": {},
   "outputs": [
    {
     "name": "stdout",
     "output_type": "stream",
     "text": [
      "[4, 2, 0, 3, 1, 5]\n"
     ]
    }
   ],
   "source": [
    "def reproduce_ij(o1, o2, i, j): # à vous de jouer\n",
    "    # get o1 values\n",
    "    gen_o1_array = o1[i:j+1]\n",
    "    # get o2 values\n",
    "    gen_o2_array_1 = []\n",
    "    gen_o2_array_2 = []\n",
    "    # from 0 to i\n",
    "    for index, element in enumerate(o2):\n",
    "        if element not in gen_o1_array:\n",
    "            if len(gen_o2_array_1) < i:\n",
    "                gen_o2_array_1.append(element)\n",
    "            else:\n",
    "                gen_o2_array_2.append(element)\n",
    "   \n",
    "    return gen_o2_array_1 + gen_o1_array + gen_o2_array_2\n",
    "\n",
    "        \n",
    "    \n",
    "\n",
    "# vérification sur l'exemple donné\n",
    "o1 = [4, 5, 0, 3, 1, 2]\n",
    "o2 = [1, 4, 2, 0, 5, 3]\n",
    "print(reproduce_ij(o1,o2,2,4))"
   ]
  },
  {
   "cell_type": "markdown",
   "metadata": {},
   "source": [
    "On utilisera en fait la fonction suivante, qui tire au sort $i$ et $j$ avant d'appeler `reproduce_ij`:"
   ]
  },
  {
   "cell_type": "code",
   "execution_count": 8,
   "metadata": {},
   "outputs": [],
   "source": [
    "def reproduce(o1, o2):\n",
    "    i, j = randrange(len(o1)), randrange(len(o2)) # randrange(n) tire au sort un entier entre 0 et n-1\n",
    "    return reproduce_ij(o1, o2, min(i,j), max(i,j))"
   ]
  },
  {
   "cell_type": "markdown",
   "metadata": {},
   "source": [
    "**Question 10.** Ecrire la fonction `mutate(o)` qui tire au sort deux indices $i$ et $j$ entre $0$ et $n-2$, où $n$ est la longueur de $o$ et qui échange les valeurs $o[i]$ et $o[j]$ (les deux indices peuvent être égaux). Attention, c'est bien $n-2$ car on veut garder $n-1$ comme dernière étape. L'ordre $o$ est modifié sur place et renvoyé par la fonction."
   ]
  },
  {
   "cell_type": "code",
   "execution_count": 9,
   "metadata": {},
   "outputs": [],
   "source": [
    "def mutate(o): # à vous de jouer\n",
    "    random_1 = randint(0, len(o)-2)\n",
    "    random_2 = randint(0, len(o)-2)\n",
    "    \n",
    "    o[random_1], o[random_2] = o[random_2], o[random_1]\n",
    "    \n",
    "    return o"
   ]
  },
  {
   "cell_type": "markdown",
   "metadata": {},
   "source": [
    "**Question 11.** Ecrire la fonction `TSP_genetics(P, amount_of_time = 20, pop_size=100, mutation_nb = 5, foreigners_nb=5)` dont les paramètres sont les suivants :\n",
    "- `P` est la liste des villes\n",
    "- `amount_of_time` c'est le temps de calcul autorisé, en secondes\n",
    "- `pop_size` c'est le nombre d'individus au total à chaque génération dans la population (c'est un nombre pair)\n",
    "- `mutation_nb` c'est le nombre d'individus qui mutent à chaque génération\n",
    "- `foreigners_nb` c'est le nombre d'étrangers qui intègrent la population\n",
    "\n",
    "Pour l'algorithme proprement dit :\n",
    "- La population est initialisée comme une liste de `pop_size` ordres aléatoires obtenus avec `rand_order_end_max(n)`. Je vous conseil de ne pas stocker juste l'ordre, mais un couple `(longueur, ordre)`, où `longueur` est la longueur du circuit obtenu en parcourant les villes selon `ordre`. Cela évite de le recalculer inutilement.\n",
    "- On fait des itérations de la boucle principale (nouvelle génération) temps qu'il nous reste du temps de calcul. A chaque fois :\n",
    "    - chaque individu à l'indice $i$ se \"bat\" avec celui à l'indice $i+1$, celui qui a la plus petite `longueur` survit, l'autre meurt ;\n",
    "    - on complète la population en faisant des reproductions aléatoires parmi les survivants jusqu'à avoir atteint `pop_size`-`foreigners_nb` individus au total (n'oubliez pas de calculer la longueur des nouveaux-nés) ;\n",
    "    - on fait muter `mutation_nb` individus au hasard (n'oubliez pas de recalculer la longueur) ;\n",
    "    - on ajoute `foreigners_nb` nouveaux ordres aléatoires pour atteindre la bonne population.\n",
    "    - on mélange la population avec `shuffle`\n",
    "- Quand c'est terminé, on retourne l'individu de plus petite longueur dans la population (si vous avez respecté l'ordre `(longueur, ordre)` il suffit d'utiliser la fonction `min` sur la liste de la population."
   ]
  },
  {
   "cell_type": "code",
   "execution_count": 41,
   "metadata": {},
   "outputs": [],
   "source": [
    "def TSP_genetics(P, amount_of_time = 10, pop_size=100, mutation_nb = 5, foreigners_nb=5): # à vous de jouer\n",
    "    \n",
    "    pop = []\n",
    "    \n",
    "    for i in range(pop_size):\n",
    "        order = rand_order_end_max(len(P))\n",
    "        size  = path_length(P, order)\n",
    "        pop.append((size, order))\n",
    "        \n",
    "    start = time()\n",
    "    while time() < start + amount_of_time:\n",
    "        new_pop = []\n",
    "        \n",
    "        for i in range(0, pop_size, 2):\n",
    "            if pop[i][0] < pop[i+1][0]:\n",
    "                new_pop.append(pop[i])\n",
    "            else:\n",
    "                new_pop.append(pop[i+1])\n",
    "        \n",
    "        # reproduction\n",
    "        while len(new_pop) < (pop_size-foreigners_nb):\n",
    "            r1 = randint(0, len(new_pop)-1)\n",
    "            r2 = randint(0, len(new_pop)-1)\n",
    "            \n",
    "            new_order = reproduce(new_pop[r1][1], new_pop[r2][1])\n",
    "            size = path_length(P, new_order)\n",
    "            new_pop.append((size, new_order))\n",
    "        \n",
    "        # Mutation\n",
    "        for i in range(mutation_nb):\n",
    "            r = randint(0, len(new_pop)-1)\n",
    "            new_order = mutate(new_pop[r][1])\n",
    "            size = path_length(P, new_pop[r][1])\n",
    "            new_pop[r] = (size, new_order)\n",
    "            \n",
    "        # Foreigners arrival\n",
    "        for i in range(foreigners_nb):\n",
    "            new_order = rand_order_end_max(len(P))\n",
    "            size  = path_length(P, new_order)\n",
    "            new_pop.append((size, new_order))\n",
    "            \n",
    "        shuffle(new_pop)\n",
    "        pop = new_pop\n",
    "            \n",
    "    return min(pop, key=lambda x:x[0])[1]"
   ]
  },
  {
   "cell_type": "markdown",
   "metadata": {},
   "source": [
    "On peut maintenant tester : faîtes tourner le script ci-dessous où on accorde 10 secondes à l'algorithme aléatoire, et 10 secondes à l'algorithme génétique. Essayez ensuite avec 60 secondes pour les deux."
   ]
  },
  {
   "cell_type": "code",
   "execution_count": null,
   "metadata": {},
   "outputs": [],
   "source": []
  },
  {
   "cell_type": "code",
   "execution_count": 23,
   "metadata": {},
   "outputs": [
    {
     "data": {
      "image/png": "[encoded data removed]",
      "text/plain": [
       "<Figure size 432x288 with 1 Axes>"
      ]
     },
     "metadata": {
      "needs_background": "light"
     },
     "output_type": "display_data"
    },
    {
     "name": "stdout",
     "output_type": "stream",
     "text": [
      "best randomized  17.907183445903783\n"
     ]
    }
   ],
   "source": [
    "n = 50\n",
    "P = random_instance_TSP(n)\n",
    "\n",
    "path = TSP_randomized(P,10)\n",
    "draw_instance_TSP(P,path)\n",
    "print(\"best randomized \", path_length(P,path))"
   ]
  },
  {
   "cell_type": "code",
   "execution_count": 42,
   "metadata": {},
   "outputs": [
    {
     "data": {
      "image/png": "[encoded data removed]",
      "text/plain": [
       "<Figure size 432x288 with 1 Axes>"
      ]
     },
     "metadata": {
      "needs_background": "light"
     },
     "output_type": "display_data"
    },
    {
     "name": "stdout",
     "output_type": "stream",
     "text": [
      "best genetic  6.841829059792084\n"
     ]
    }
   ],
   "source": [
    "path = TSP_genetics(P,10)\n",
    "draw_instance_TSP(P,path)\n",
    "print(\"best genetic \", path_length(P,path))"
   ]
  },
  {
   "cell_type": "markdown",
   "metadata": {},
   "source": [
    "# 5 (Facultatif) Enlever des croisements\n",
    "\n",
    "On cherche à améliorer un peu nos solutions en enlevant des croisements : on peut montrer que la solution optimale n'a pas de croisements.\n",
    "\n",
    "Ce n'est pas raisonnable d'essayer d'enlever tous les croisements : enlever un croisement peut en créer d'autres. Il a été démontré qu'on peut avoir besoin d'enlever comme ça un nombre *exponentiel* de croisements pour complêtement \"détricotter\" le chemin."
   ]
  },
  {
   "cell_type": "markdown",
   "metadata": {},
   "source": [
    "**Question 12 :** soient $A$, $B$ et $C$ trois points. On veut savoir de quel côté de la droite orientée portée par $\\vec{AB}$ se trouve le point $C$ : si on se place en $A$ et qu'on regarde vers $B$, est-ce que $C$ est à gauche ou à droite (ou aligné avec $B$) ?\n",
    "\n",
    "La solution à ce problème géométrique est donné par ce qu'on appelle le *produit vectoriel* $\\vec{AB}\\wedge\\vec{AC}$. Vous n'avez pas besoin de savoir ce que c'est. Il suffit juste de savoir qu'il faut calculer le signe de \n",
    "$(x_B-x_A)*(y_C-y_A) - (x_C-x_A)*(y_B-y_A)$ :\n",
    "- si la quantité est nulle : les points sont alignés\n",
    "- si elle est positive : $C$ est à gauche de $\\vec{AB}$\n",
    "- si elle est positive : $C$ est à droite de $\\vec{AB}$\n",
    "\n",
    "Ecrire une fonction ``orientation(A,B,C)`` qui retourne 0 si les points sont alignés, 1 si $C$ est à gauche de $\\vec{AB}$ et -1 s'il est à droite."
   ]
  },
  {
   "cell_type": "code",
   "execution_count": null,
   "metadata": {},
   "outputs": [],
   "source": [
    "def orientation(A,B,C): # à vous de jouer\n",
    "    pass"
   ]
  },
  {
   "cell_type": "markdown",
   "metadata": {},
   "source": [
    "**Question 13 :** Ecrire une fonction ``intersect(A,B,C,D)`` qui renvoie vrai quand le segment du plan $[A,B]$ intersecte le segment $[C,D]$ et faux s'ils ne s'intersectent pas (sauf s'il y a trois des quatre points qui sont alignés, auquel cas elle retourne faux).\n",
    "\n",
    "Pour tester l'intersection on vérifiera que $C$ et $D$ ne sont pas du même côté de $\\vec{AB}$ et que $A$ et $B$ ne sont pas du même côté de $\\vec{CD}$."
   ]
  },
  {
   "cell_type": "code",
   "execution_count": null,
   "metadata": {},
   "outputs": [],
   "source": [
    "def intersect(A,B,C,D): # à vous de jouer\n",
    "    pass"
   ]
  },
  {
   "cell_type": "markdown",
   "metadata": {},
   "source": [
    "**Question 14 :** Soit $P$ est une liste de $n$ points, $o$ un ordre de taille $n$, et $i$ et $j$ sont deux indices avec $0\\leq i < j-1 < n-2$. On note $A=P[o[i]]$ , $B=P[o[i+1]]$ et $C=P[o[j]]$ , $D=P[o[j+1]]$.\n",
    "\n",
    "Ecrire une fonction ``uncross(P,o,i,j)`` qui fait les actions suivantes :\n",
    "- si $[A,B]$ et $[C,D]$ ne s'intersectent pas (au sens de la fonction ``intersect``) : on ne fait rien\n",
    "- sinon on enlève le croisement en changeant l'ordre $o$ : le suivant de $A$ devient $C$, le suivant de $B$ devient $D$ et l'ordre des points entre $C$ et $D$ est **inversé** (conseil : faîtes un dessin de avant / après)."
   ]
  },
  {
   "cell_type": "code",
   "execution_count": null,
   "metadata": {},
   "outputs": [],
   "source": [
    "def uncross(P,o,i,j): # à vous de jouer\n",
    "    pass"
   ]
  },
  {
   "cell_type": "markdown",
   "metadata": {},
   "source": [
    "**Question 15 :** en utilisant la fonction ``uncross_some`` ci-dessous, écrire une version modifiée de l'algorithme génétique nommée ``TSP_genetics_uncross`` où à chaque fois qu'on crée un ordre on le \"décroise\" un peu avec ``uncross_some``."
   ]
  },
  {
   "cell_type": "code",
   "execution_count": null,
   "metadata": {},
   "outputs": [],
   "source": [
    "def uncross_some(P,o):\n",
    "    for i in range(len(o)):\n",
    "        for j in range(i+2, len(o)-1):\n",
    "            uncross(P,o,i,j)\n",
    "            \n",
    "def TSP_genetics_uncross(P, amount_of_time = 10, pop_size=100, mutation_nb = 5, foreigners_nb=5): # pop_size must be even\n",
    "    pass"
   ]
  },
  {
   "cell_type": "markdown",
   "metadata": {},
   "source": [
    "Testez et comparez visuellement les différents algorithmes en exécutant le code ci-dessous (vous pouvez changer le temps)."
   ]
  },
  {
   "cell_type": "code",
   "execution_count": null,
   "metadata": {},
   "outputs": [],
   "source": [
    "n = 50 # number of cities\n",
    "t = 10 # seconds of computation\n",
    "P = random_instance_TSP(n)\n",
    "\n",
    "path = TSP_randomized(P, t)\n",
    "draw_instance_TSP(P,path)\n",
    "print(\"best randomized \", path_length(P,path))\n",
    "\n",
    "path = TSP_genetics(P, t)\n",
    "draw_instance_TSP(P,path)\n",
    "print(\"best genetic \", path_length(P,path))\n",
    "\n",
    "path = TSP_genetics_uncross(P, t)\n",
    "draw_instance_TSP(P,path)\n",
    "print(\"best genetic with uncross \", path_length(P,path))"
   ]
  }
 ],
 "metadata": {
  "kernelspec": {
   "display_name": "Python 3",
   "language": "python",
   "name": "python3"
  },
  "language_info": {
   "codemirror_mode": {
    "name": "ipython",
    "version": 3
   },
   "file_extension": ".py",
   "mimetype": "text/x-python",
   "name": "python",
   "nbconvert_exporter": "python",
   "pygments_lexer": "ipython3",
   "version": "3.8.2"
  }
 },
 "nbformat": 4,
 "nbformat_minor": 2
}
