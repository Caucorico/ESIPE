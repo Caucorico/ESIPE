{
 "cells": [
  {
   "cell_type": "markdown",
   "metadata": {},
   "source": [
    "# Problème du voyageur de commerce\n",
    "\n",
    "Dans ce TP on s'intéresse au problème de **voyageur de commerce (TSP) euclidien**, c'est celui où les villes sont des points du plan et la distance entre deux villes et la distance à vol d'oiseau (en math : la *distance euclidienne*)\n",
    "\n",
    "## 1. Préparation\n",
    "\n",
    "Dans cette première partie, on va calculer la solution optimale au problème en essayant tous les ordres possibles pour visiter les villes. On représente les villes par une liste de paires de coordonnées : `P=[ (1.0, 1.3), (2.1, 0.4), (3.1, 3.3) ]` pour la liste des trois points de coordonnées (1.0, 1.3), (2.1, 0.4) et (3.1, 3.3). Et un *ordre* sur la visite des villes par la liste de villes dans l'ordre de parcours : `o = [1, 0, 2]` si on commence par la ville 1, puis on va en 0, puis en 2 et enfin on retourne en 1. **Attention :** n'oubliez pas qu'on termine la boucle et qu'on revient au point de départ.\n",
    "\n",
    "**Question 1.** Ecrire une fonction `random_instance_TSP(n)` qui génère aléatoirement une liste de $n$ points dont les coordonnées sont des flottants aléatoires compris entre 0 et 1. Pour l'aléa, vou pouvez utiliser la fonction `random()` de la bibliothèque `random` comme dans l'exemple :"
   ]
  },
  {
   "cell_type": "code",
   "execution_count": 16,
   "metadata": {},
   "outputs": [
    {
     "name": "stdout",
     "output_type": "stream",
     "text": [
      "0.8575650520805166 0.24970812474704496 0.2525043188568038 0.5435359910792078 0.7948561224428098 0.048173262481839174 0.4981566169070668 0.34014101484405856 0.7311966082211572 0.6397322431030298 [(0.8919653844796835, 0.536218590364041), (0.09342440612380687, 0.566338121358818), (0.40383255866225, 0.33976706648373933), (0.6703615179188254, 0.7849223973074623), (0.717055225187574, 0.3504203289633683), (0.21348857049007386, 0.3449130109363341), (0.5598156906053267, 0.8211910295808849), (0.8553858716703303, 0.23539321079792974), (0.8508838968508567, 0.8943243217130853), (0.7725882872774179, 0.6906682567679348)]\n"
     ]
    }
   ],
   "source": [
    "from random import *\n",
    "\n",
    "for _ in range(10):\n",
    "    print(random(), end=\" \")\n",
    "\n",
    "def random_instance_TSP(n): # à vous de jouer\n",
    "    tab = []\n",
    "    for _ in range(0, n):\n",
    "        tab.append((uniform(0.0, 1.0), uniform(0.0, 1.0)))\n",
    "        \n",
    "    return tab\n",
    "\n",
    "# pour tester\n",
    "print(random_instance_TSP(10))"
   ]
  },
  {
   "cell_type": "markdown",
   "metadata": {},
   "source": [
    "**Question 2.** Ecrire une fonction `distance(P1, P2)` qui calcule la distance euclidienne entre les deux points `P1` et `P2` (cherchez sur internet si vous avez oublié la formule). Ecrire également une fonction `path_length(P, o)` qui calcule la longueur totale de la tournée du voyageur de commerce s'il parcourt les villes dans l'ordre donné par `o`. **Attention :** n'oubliez pas qu'on revient à la ville initiale en fin de tournée."
   ]
  },
  {
   "cell_type": "code",
   "execution_count": 19,
   "metadata": {},
   "outputs": [
    {
     "data": {
      "text/plain": [
       "4.0"
      ]
     },
     "execution_count": 19,
     "metadata": {},
     "output_type": "execute_result"
    }
   ],
   "source": [
    "from math import *  # la racine carré de x se calcule avec sqrt(x), on peut aussi utiliser x**.5\n",
    "\n",
    "def distance(P1,P2):\n",
    "    return sqrt((P1[0]-P2[0])**2 + (P1[1] - P2[1])**2)\n",
    "\n",
    "def path_length(P, o):\n",
    "    start = P[0]\n",
    "    last = start\n",
    "    dist = 0.0\n",
    "    \n",
    "    for current in enumerate(o):\n",
    "        if current[0] == 0:\n",
    "            continue\n",
    "        \n",
    "        current_point = P[current[1]]\n",
    "        dist += distance(last, current_point)\n",
    "        last = current_point\n",
    "        \n",
    "    # Return to the start\n",
    "    dist += distance(last, start)\n",
    "    \n",
    "    return dist\n",
    "\n",
    "# pour tester, le résultat doit être 4.0\n",
    "path_length([(0,0), (0,1), (1,1), (1,0)], list(range(4)))"
   ]
  },
  {
   "cell_type": "markdown",
   "metadata": {},
   "source": [
    "**Question 3.** On voudrait maintenant pouvoir visualiser une solution au voyageur de commerce. Pour cela, on va utiliser\n",
    "la bibliothèque `matplotlib.pyplot`: cette bibliothèque est très complète, mais pour notre utilisation, il nous suffit de fournir la liste `lx` des abscisses des points et la liste `ly` des ordonnées des points pour obtenir le tracé avec le code suivant :"
   ]
  },
  {
   "cell_type": "code",
   "execution_count": 21,
   "metadata": {},
   "outputs": [
    {
     "data": {
      "image/png": "[encoded data removed]",
      "text/plain": [
       "<Figure size 432x288 with 1 Axes>"
      ]
     },
     "metadata": {
      "needs_background": "light"
     },
     "output_type": "display_data"
    }
   ],
   "source": [
    "import matplotlib.pyplot as plt\n",
    "\n",
    "# les points sont, dans l'ordre, (0.1, 0.7), (0.3, 0.1) et (0.6, 0.5)\n",
    "lx = [0.1, 0.3, 0.6] # les abscisses, dans l'ordre\n",
    "ly = [0.7, 0.1, 0.5] # les ordonnées, dans l'ordre\n",
    "plt.plot(lx, ly, marker='', linestyle='-',color='blue') #relie les points en bleu\n",
    "plt.plot(lx, ly, marker='o', linestyle='',color='red') # dessine les points en rouge\n",
    "plt.axis([0, 1, 0, 1]) # spécifie la fenêtre affichée\n",
    "plt.axis('equal') # orthonormée\n",
    "plt.show() # affichage"
   ]
  },
  {
   "cell_type": "markdown",
   "metadata": {},
   "source": [
    "Ecrire une fonction `draw_instance_TSP(P,o)` qui dessine une solution du problème du voyageur de commerce sur l'ensemble de points $P$ avec l'ordre de parcours $o$. N'oubliez pas qu'il faut revenir à l'origine."
   ]
  },
  {
   "cell_type": "code",
   "execution_count": 31,
   "metadata": {},
   "outputs": [
    {
     "data": {
      "image/png": "[encoded data removed]",
      "text/plain": [
       "<Figure size 432x288 with 1 Axes>"
      ]
     },
     "metadata": {
      "needs_background": "light"
     },
     "output_type": "display_data"
    },
    {
     "name": "stdout",
     "output_type": "stream",
     "text": [
      "Longueur du chemin 2.515694192702272\n"
     ]
    }
   ],
   "source": [
    "def draw_instance_TSP(P, o): # à vous de jouer\n",
    "    start = P[0]\n",
    "    last = start\n",
    "    \n",
    "    lx = []\n",
    "    ly = []\n",
    "    \n",
    "    for current in enumerate(o):\n",
    "        current_point = P[current[1]]\n",
    "        lx.append(current_point[0])\n",
    "        ly.append(current_point[1])\n",
    "        \n",
    "    lx.append(start[0])\n",
    "    ly.append(start[1])\n",
    "    \n",
    "    plt.plot(lx, ly, marker='', linestyle='-',color='blue') #relie les points en bleu\n",
    "    plt.plot(lx, ly, marker='o', linestyle='',color='red') # dessine les points en rouge\n",
    "    plt.axis([0, 1, 0, 1]) # spécifie la fenêtre affichée\n",
    "    plt.axis('equal') # orthonormée\n",
    "    plt.show() # affichage\n",
    "    \n",
    "\n",
    "# pour tester\n",
    "n = 4\n",
    "P = random_instance_TSP(n)\n",
    "o = list(range(n)) # la liste des nombres de 0 à n-1 : on parcourt les villes dans l'ordre donné par P\n",
    "draw_instance_TSP(P, o)\n",
    "print(\"Longueur du chemin\", path_length(P,o))"
   ]
  },
  {
   "cell_type": "markdown",
   "metadata": {},
   "source": [
    "## 2. Recherche exhaustive\n",
    "\n",
    "**Question 4.** Ecrire une fonction `list_orders(n)` qui renvoie la liste de tous les façons possibles d'ordonner les nombres de $E_n=\\{0,\\ldots,n-1\\}$. On pourra procéder récursivement : \n",
    "- si $n=1$ il y a un seul ordre donc on renvoie `[[0]]`, la liste contenant un seul ordre qui est `[0]`\n",
    "- si $n>=2$ on appelle récursivement la liste $L$ de tous les ordres possibles de $E_{n_1}$ et pour chaque ordre $o$ de $L$, on insère la valeur $n-1$ à toutes les positions possibles\n",
    "\n",
    "On peut montrer qu'il y a $n!$ (factorielle de $n$) ordres différents. La fonction `factorial(n)` existe dans la bibliothèque `math` de Python et calcule $n!$"
   ]
  },
  {
   "cell_type": "code",
   "execution_count": 39,
   "metadata": {},
   "outputs": [
    {
     "name": "stdout",
     "output_type": "stream",
     "text": [
      "[[2, 0, 1], [1, 2, 0], [1, 0, 2], [2, 1, 0], [0, 2, 1], [0, 1, 2]]\n",
      "True\n"
     ]
    }
   ],
   "source": [
    "def list_orders(n): # à vous de jouer\n",
    "    if n == 1:\n",
    "        return [[0]]\n",
    "    L = list_orders(n-1)\n",
    "    R = []\n",
    "    for o in L:\n",
    "        for i in range(n):\n",
    "            q = o[:]\n",
    "            q.append(n-1)\n",
    "            q[i], q[-1] = q[-1], q[i]\n",
    "            R.append(q)\n",
    "    return R\n",
    "\n",
    "# cela doit afficher (pas forcément dans le même ordre) [[2, 0, 1], [1, 2, 0], [1, 0, 2], [2, 1, 0], [0, 2, 1], [0, 1, 2]]\n",
    "print(list_orders(3)) \n",
    "\n",
    "print(len(list_orders(4)) == factorial(4))"
   ]
  },
  {
   "cell_type": "markdown",
   "metadata": {},
   "source": [
    "**Question 5.** Comme on fait des tours circulaires, le point de départ n'est pas important. La tournée `[1,0,4,2,3]` est de même longueur que la tournée `[4,2,3,1,0]`, on part juste de $4$ au lieu de partir de $1$. Pour faire moins de calcul, on va donc imposer que la dernière étape des ordres est $n-1$ (on aurait pu imposer de commencer en $0$, c'est juste plus simple comme ça en Python). Ecrire une fonction `list_orders_optimized(n)` qui retourne la liste de tous les ordres possibles dont la dernière étape (avant le retour au départ) est $n-1$. "
   ]
  },
  {
   "cell_type": "code",
   "execution_count": 41,
   "metadata": {},
   "outputs": [
    {
     "name": "stdout",
     "output_type": "stream",
     "text": [
      "[[2, 0, 1, 3], [1, 2, 0, 3], [1, 0, 2, 3], [2, 1, 0, 3], [0, 2, 1, 3], [0, 1, 2, 3]]\n"
     ]
    }
   ],
   "source": [
    "def list_orders_optimized(n): # à vous de jouer\n",
    "    L = list_orders(n)\n",
    "    R = []\n",
    "    for l in L:\n",
    "        if (l[-1] == n-1):\n",
    "            R.append(l)\n",
    "    return R\n",
    "\n",
    "# doit retourner (à l'ordre prêt) [[2, 0, 1, 3], [1, 2, 0, 3], [1, 0, 2, 3], [2, 1, 0, 3], [0, 2, 1, 3], [0, 1, 2, 3]]\n",
    "print(list_orders_optimized(4))"
   ]
  },
  {
   "cell_type": "markdown",
   "metadata": {},
   "source": [
    "**Question 6.** Ecrire une fonction `TSP_brute_force(P)` qui cherche la solution optimale au problème TSP sur $P$ en testant tous les ordres retournés par `list_orders_optimized`. La fonction retourne le meilleur ordre."
   ]
  },
  {
   "cell_type": "code",
   "execution_count": 42,
   "metadata": {},
   "outputs": [
    {
     "data": {
      "image/png": "[encoded data removed]",
      "text/plain": [
       "<Figure size 432x288 with 1 Axes>"
      ]
     },
     "metadata": {
      "needs_background": "light"
     },
     "output_type": "display_data"
    }
   ],
   "source": [
    "def TSP_brute_force(P): # à vous de jouer\n",
    "    orders = list_orders_optimized(len(P))\n",
    "    best_path, best_length = None, None\n",
    "    for path in orders:\n",
    "        length = path_length(P, path)\n",
    "        if best_length is None or best_length > length:\n",
    "            best_path, best_length = path, length\n",
    "    return best_path\n",
    "\n",
    "# pour tester\n",
    "n = 8\n",
    "P = random_instance_TSP(n)\n",
    "o = TSP_brute_force(P)\n",
    "draw_instance_TSP(P,o)\n"
   ]
  },
  {
   "cell_type": "markdown",
   "metadata": {},
   "source": [
    "Si vous essayez de résoudre le TSP pour $n=21$, vous n'avez aucune chance d'y arriver en un temps raisonnable. En effet, il y a $20!$ ordres à tester, et $20!$ c'est 51 milliards de milliards d'ordres !\n",
    "\n",
    "Pour se rendre compte du temps mis, on peut utiliser la bibliothèque `time` de Python : exécutez le script ci-dessous (soyez patient pour n=11, chez moi il faut 40 secondes)"
   ]
  },
  {
   "cell_type": "code",
   "execution_count": 43,
   "metadata": {},
   "outputs": [
    {
     "name": "stdout",
     "output_type": "stream",
     "text": [
      "time for 3:  4.076957702636719e-05\n",
      "time for 4:  9.775161743164062e-05\n",
      "time for 5:  0.00017333030700683594\n",
      "time for 6:  0.0009708404541015625\n",
      "time for 7:  0.006989717483520508\n",
      "time for 8:  0.08346056938171387\n",
      "time for 9:  0.6529066562652588\n",
      "time for 10:  6.484323978424072\n"
     ]
    },
    {
     "ename": "KeyboardInterrupt",
     "evalue": "",
     "output_type": "error",
     "traceback": [
      "\u001b[0;31m---------------------------------------------------------------------------\u001b[0m",
      "\u001b[0;31mKeyboardInterrupt\u001b[0m                         Traceback (most recent call last)",
      "\u001b[0;32m<ipython-input-43-c082c1f44874>\u001b[0m in \u001b[0;36m<module>\u001b[0;34m\u001b[0m\n\u001b[1;32m      4\u001b[0m     \u001b[0mP\u001b[0m \u001b[0;34m=\u001b[0m \u001b[0mrandom_instance_TSP\u001b[0m\u001b[0;34m(\u001b[0m\u001b[0mn\u001b[0m\u001b[0;34m)\u001b[0m\u001b[0;34m\u001b[0m\u001b[0;34m\u001b[0m\u001b[0m\n\u001b[1;32m      5\u001b[0m     \u001b[0mstart_time\u001b[0m \u001b[0;34m=\u001b[0m \u001b[0mtime\u001b[0m\u001b[0;34m(\u001b[0m\u001b[0;34m)\u001b[0m\u001b[0;34m\u001b[0m\u001b[0;34m\u001b[0m\u001b[0m\n\u001b[0;32m----> 6\u001b[0;31m     \u001b[0mbest_order\u001b[0m \u001b[0;34m=\u001b[0m \u001b[0mTSP_brute_force\u001b[0m\u001b[0;34m(\u001b[0m\u001b[0mP\u001b[0m\u001b[0;34m)\u001b[0m\u001b[0;34m\u001b[0m\u001b[0;34m\u001b[0m\u001b[0m\n\u001b[0m\u001b[1;32m      7\u001b[0m     \u001b[0mprint\u001b[0m\u001b[0;34m(\u001b[0m\u001b[0;34m\"time for \"\u001b[0m\u001b[0;34m+\u001b[0m\u001b[0mstr\u001b[0m\u001b[0;34m(\u001b[0m\u001b[0mn\u001b[0m\u001b[0;34m)\u001b[0m\u001b[0;34m+\u001b[0m\u001b[0;34m\": \"\u001b[0m\u001b[0;34m,\u001b[0m\u001b[0mtime\u001b[0m\u001b[0;34m(\u001b[0m\u001b[0;34m)\u001b[0m\u001b[0;34m-\u001b[0m\u001b[0mstart_time\u001b[0m\u001b[0;34m)\u001b[0m\u001b[0;34m\u001b[0m\u001b[0;34m\u001b[0m\u001b[0m\n",
      "\u001b[0;32m<ipython-input-42-9774971e4c59>\u001b[0m in \u001b[0;36mTSP_brute_force\u001b[0;34m(P)\u001b[0m\n\u001b[1;32m      1\u001b[0m \u001b[0;32mdef\u001b[0m \u001b[0mTSP_brute_force\u001b[0m\u001b[0;34m(\u001b[0m\u001b[0mP\u001b[0m\u001b[0;34m)\u001b[0m\u001b[0;34m:\u001b[0m \u001b[0;31m# à vous de jouer\u001b[0m\u001b[0;34m\u001b[0m\u001b[0;34m\u001b[0m\u001b[0m\n\u001b[0;32m----> 2\u001b[0;31m     \u001b[0morders\u001b[0m \u001b[0;34m=\u001b[0m \u001b[0mlist_orders_optimized\u001b[0m\u001b[0;34m(\u001b[0m\u001b[0mlen\u001b[0m\u001b[0;34m(\u001b[0m\u001b[0mP\u001b[0m\u001b[0;34m)\u001b[0m\u001b[0;34m)\u001b[0m\u001b[0;34m\u001b[0m\u001b[0;34m\u001b[0m\u001b[0m\n\u001b[0m\u001b[1;32m      3\u001b[0m     \u001b[0mbest_path\u001b[0m\u001b[0;34m,\u001b[0m \u001b[0mbest_length\u001b[0m \u001b[0;34m=\u001b[0m \u001b[0;32mNone\u001b[0m\u001b[0;34m,\u001b[0m \u001b[0;32mNone\u001b[0m\u001b[0;34m\u001b[0m\u001b[0;34m\u001b[0m\u001b[0m\n\u001b[1;32m      4\u001b[0m     \u001b[0;32mfor\u001b[0m \u001b[0mpath\u001b[0m \u001b[0;32min\u001b[0m \u001b[0morders\u001b[0m\u001b[0;34m:\u001b[0m\u001b[0;34m\u001b[0m\u001b[0;34m\u001b[0m\u001b[0m\n\u001b[1;32m      5\u001b[0m         \u001b[0mlength\u001b[0m \u001b[0;34m=\u001b[0m \u001b[0mpath_length\u001b[0m\u001b[0;34m(\u001b[0m\u001b[0mP\u001b[0m\u001b[0;34m,\u001b[0m \u001b[0mpath\u001b[0m\u001b[0;34m)\u001b[0m\u001b[0;34m\u001b[0m\u001b[0;34m\u001b[0m\u001b[0m\n",
      "\u001b[0;32m<ipython-input-41-74660d9a0966>\u001b[0m in \u001b[0;36mlist_orders_optimized\u001b[0;34m(n)\u001b[0m\n\u001b[1;32m      1\u001b[0m \u001b[0;32mdef\u001b[0m \u001b[0mlist_orders_optimized\u001b[0m\u001b[0;34m(\u001b[0m\u001b[0mn\u001b[0m\u001b[0;34m)\u001b[0m\u001b[0;34m:\u001b[0m \u001b[0;31m# à vous de jouer\u001b[0m\u001b[0;34m\u001b[0m\u001b[0;34m\u001b[0m\u001b[0m\n\u001b[0;32m----> 2\u001b[0;31m     \u001b[0mL\u001b[0m \u001b[0;34m=\u001b[0m \u001b[0mlist_orders\u001b[0m\u001b[0;34m(\u001b[0m\u001b[0mn\u001b[0m\u001b[0;34m)\u001b[0m\u001b[0;34m\u001b[0m\u001b[0;34m\u001b[0m\u001b[0m\n\u001b[0m\u001b[1;32m      3\u001b[0m     \u001b[0mR\u001b[0m \u001b[0;34m=\u001b[0m \u001b[0;34m[\u001b[0m\u001b[0;34m]\u001b[0m\u001b[0;34m\u001b[0m\u001b[0;34m\u001b[0m\u001b[0m\n\u001b[1;32m      4\u001b[0m     \u001b[0;32mfor\u001b[0m \u001b[0ml\u001b[0m \u001b[0;32min\u001b[0m \u001b[0mL\u001b[0m\u001b[0;34m:\u001b[0m\u001b[0;34m\u001b[0m\u001b[0;34m\u001b[0m\u001b[0m\n\u001b[1;32m      5\u001b[0m         \u001b[0;32mif\u001b[0m \u001b[0;34m(\u001b[0m\u001b[0ml\u001b[0m\u001b[0;34m[\u001b[0m\u001b[0;34m-\u001b[0m\u001b[0;36m1\u001b[0m\u001b[0;34m]\u001b[0m \u001b[0;34m==\u001b[0m \u001b[0mn\u001b[0m\u001b[0;34m-\u001b[0m\u001b[0;36m1\u001b[0m\u001b[0;34m)\u001b[0m\u001b[0;34m:\u001b[0m\u001b[0;34m\u001b[0m\u001b[0;34m\u001b[0m\u001b[0m\n",
      "\u001b[0;32m<ipython-input-39-1fc6caf85253>\u001b[0m in \u001b[0;36mlist_orders\u001b[0;34m(n)\u001b[0m\n\u001b[1;32m      6\u001b[0m     \u001b[0;32mfor\u001b[0m \u001b[0mo\u001b[0m \u001b[0;32min\u001b[0m \u001b[0mL\u001b[0m\u001b[0;34m:\u001b[0m\u001b[0;34m\u001b[0m\u001b[0;34m\u001b[0m\u001b[0m\n\u001b[1;32m      7\u001b[0m         \u001b[0;32mfor\u001b[0m \u001b[0mi\u001b[0m \u001b[0;32min\u001b[0m \u001b[0mrange\u001b[0m\u001b[0;34m(\u001b[0m\u001b[0mn\u001b[0m\u001b[0;34m)\u001b[0m\u001b[0;34m:\u001b[0m\u001b[0;34m\u001b[0m\u001b[0;34m\u001b[0m\u001b[0m\n\u001b[0;32m----> 8\u001b[0;31m             \u001b[0mq\u001b[0m \u001b[0;34m=\u001b[0m \u001b[0mo\u001b[0m\u001b[0;34m[\u001b[0m\u001b[0;34m:\u001b[0m\u001b[0;34m]\u001b[0m\u001b[0;34m\u001b[0m\u001b[0;34m\u001b[0m\u001b[0m\n\u001b[0m\u001b[1;32m      9\u001b[0m             \u001b[0mq\u001b[0m\u001b[0;34m.\u001b[0m\u001b[0mappend\u001b[0m\u001b[0;34m(\u001b[0m\u001b[0mn\u001b[0m\u001b[0;34m-\u001b[0m\u001b[0;36m1\u001b[0m\u001b[0;34m)\u001b[0m\u001b[0;34m\u001b[0m\u001b[0;34m\u001b[0m\u001b[0m\n\u001b[1;32m     10\u001b[0m             \u001b[0mq\u001b[0m\u001b[0;34m[\u001b[0m\u001b[0mi\u001b[0m\u001b[0;34m]\u001b[0m\u001b[0;34m,\u001b[0m \u001b[0mq\u001b[0m\u001b[0;34m[\u001b[0m\u001b[0;34m-\u001b[0m\u001b[0;36m1\u001b[0m\u001b[0;34m]\u001b[0m \u001b[0;34m=\u001b[0m \u001b[0mq\u001b[0m\u001b[0;34m[\u001b[0m\u001b[0;34m-\u001b[0m\u001b[0;36m1\u001b[0m\u001b[0;34m]\u001b[0m\u001b[0;34m,\u001b[0m \u001b[0mq\u001b[0m\u001b[0;34m[\u001b[0m\u001b[0mi\u001b[0m\u001b[0;34m]\u001b[0m\u001b[0;34m\u001b[0m\u001b[0;34m\u001b[0m\u001b[0m\n",
      "\u001b[0;31mKeyboardInterrupt\u001b[0m: "
     ]
    }
   ],
   "source": [
    "from time import *\n",
    "\n",
    "for n in range(3,12):\n",
    "    P = random_instance_TSP(n)\n",
    "    start_time = time()\n",
    "    best_order = TSP_brute_force(P)\n",
    "    print(\"time for \"+str(n)+\": \",time()-start_time)"
   ]
  },
  {
   "cell_type": "markdown",
   "metadata": {},
   "source": [
    "## 3. Recherche aléatoire\n",
    "\n",
    "Pour essayer d'avoir une solution raisonnable, à defaut d'une solution optimale, pour des plus grandes valeurs de $n$, on essaye une première startégie : tirer au sort des ordres et retenir le meilleur résultat obtenu.\n",
    "\n",
    "Pour mélanger un tableau vous pouvez utiliser la fonction `shuffle` de la bibliothèque `random` comme dans l'exemple ci-dessous, qui mélange une liste (en place, pas d'allocation de mémoire).\n"
   ]
  },
  {
   "cell_type": "code",
   "execution_count": 44,
   "metadata": {},
   "outputs": [
    {
     "name": "stdout",
     "output_type": "stream",
     "text": [
      "[87, 5, 123, 29, 2, 222, 100]\n"
     ]
    }
   ],
   "source": [
    "L = [2, 5, 87, 100, 29, 222, 123]\n",
    "shuffle(L)\n",
    "print(L)"
   ]
  },
  {
   "cell_type": "markdown",
   "metadata": {},
   "source": [
    "**Question 7.** Ecrire la fonction `TSP_randomized(P, amount_of_time)` qui tire au sort des ordres pendant un temps égal à\n",
    "`amount_of_time` et renvoie le meilleur ordre obtenu."
   ]
  },
  {
   "cell_type": "code",
   "execution_count": 68,
   "metadata": {},
   "outputs": [],
   "source": [
    "def TSP_randomized(P, amount_of_time): # à vous de jouer\n",
    "    start = time()\n",
    "    L = list(range(len(P)))\n",
    "    order = None\n",
    "    min = -1.0\n",
    "    \n",
    "    while (start + amount_of_time) > time():\n",
    "        shuffle(L)\n",
    "        \n",
    "        val = path_length(P, L)\n",
    "        \n",
    "        if order is None:\n",
    "            min = val\n",
    "        else:\n",
    "            if val < min:\n",
    "                min = val\n",
    "                order = L[:]\n",
    "        \n",
    "    return order"
   ]
  },
  {
   "cell_type": "markdown",
   "metadata": {},
   "source": [
    "Pour tester l'efficacité de la recherche aléatoire, on utilise le protocole suivant : pour une instance $P$ de taille $n$, on calcule la solution optimale avec la méthode exhaustive, en notant le temps utilisé. Ensuite, on refait le calcul avec `TSP_randomized` en lui accordant le même temps. On regarde si le résultat est loin de l'optimal (pareil, soyez patient pour n=11)."
   ]
  },
  {
   "cell_type": "code",
   "execution_count": 73,
   "metadata": {},
   "outputs": [
    {
     "ename": "TypeError",
     "evalue": "'NoneType' object is not iterable",
     "output_type": "error",
     "traceback": [
      "\u001b[0;31m---------------------------------------------------------------------------\u001b[0m",
      "\u001b[0;31mTypeError\u001b[0m                                 Traceback (most recent call last)",
      "\u001b[0;32m<ipython-input-73-ec38eda845ea>\u001b[0m in \u001b[0;36m<module>\u001b[0;34m\u001b[0m\n\u001b[1;32m      5\u001b[0m     \u001b[0mdelay\u001b[0m \u001b[0;34m=\u001b[0m \u001b[0mtime\u001b[0m\u001b[0;34m(\u001b[0m\u001b[0;34m)\u001b[0m\u001b[0;34m-\u001b[0m\u001b[0mstart_time\u001b[0m\u001b[0;34m\u001b[0m\u001b[0;34m\u001b[0m\u001b[0m\n\u001b[1;32m      6\u001b[0m     \u001b[0mbest_random\u001b[0m \u001b[0;34m=\u001b[0m \u001b[0mTSP_randomized\u001b[0m\u001b[0;34m(\u001b[0m\u001b[0mP\u001b[0m\u001b[0;34m,\u001b[0m \u001b[0mdelay\u001b[0m\u001b[0;34m)\u001b[0m\u001b[0;34m\u001b[0m\u001b[0;34m\u001b[0m\u001b[0m\n\u001b[0;32m----> 7\u001b[0;31m     \u001b[0;32mif\u001b[0m \u001b[0mabs\u001b[0m\u001b[0;34m(\u001b[0m\u001b[0mpath_length\u001b[0m\u001b[0;34m(\u001b[0m\u001b[0mP\u001b[0m\u001b[0;34m,\u001b[0m\u001b[0mbest_random\u001b[0m\u001b[0;34m)\u001b[0m\u001b[0;34m-\u001b[0m\u001b[0mpath_length\u001b[0m\u001b[0;34m(\u001b[0m\u001b[0mP\u001b[0m\u001b[0;34m,\u001b[0m\u001b[0mbest_path\u001b[0m\u001b[0;34m)\u001b[0m\u001b[0;34m)\u001b[0m \u001b[0;34m<\u001b[0m \u001b[0;36m1e-10\u001b[0m\u001b[0;34m:\u001b[0m \u001b[0;31m# si l'écart est petit on le considère nul (arrondis)\u001b[0m\u001b[0;34m\u001b[0m\u001b[0;34m\u001b[0m\u001b[0m\n\u001b[0m\u001b[1;32m      8\u001b[0m         \u001b[0mprint\u001b[0m\u001b[0;34m(\u001b[0m\u001b[0mn\u001b[0m\u001b[0;34m,\u001b[0m \u001b[0;34m\"optimal trouvé\"\u001b[0m\u001b[0;34m)\u001b[0m\u001b[0;34m\u001b[0m\u001b[0;34m\u001b[0m\u001b[0m\n\u001b[1;32m      9\u001b[0m     \u001b[0;32melse\u001b[0m\u001b[0;34m:\u001b[0m\u001b[0;34m\u001b[0m\u001b[0;34m\u001b[0m\u001b[0m\n",
      "\u001b[0;32m<ipython-input-19-0addc009b59d>\u001b[0m in \u001b[0;36mpath_length\u001b[0;34m(P, o)\u001b[0m\n\u001b[1;32m      9\u001b[0m     \u001b[0mdist\u001b[0m \u001b[0;34m=\u001b[0m \u001b[0;36m0.0\u001b[0m\u001b[0;34m\u001b[0m\u001b[0;34m\u001b[0m\u001b[0m\n\u001b[1;32m     10\u001b[0m \u001b[0;34m\u001b[0m\u001b[0m\n\u001b[0;32m---> 11\u001b[0;31m     \u001b[0;32mfor\u001b[0m \u001b[0mcurrent\u001b[0m \u001b[0;32min\u001b[0m \u001b[0menumerate\u001b[0m\u001b[0;34m(\u001b[0m\u001b[0mo\u001b[0m\u001b[0;34m)\u001b[0m\u001b[0;34m:\u001b[0m\u001b[0;34m\u001b[0m\u001b[0;34m\u001b[0m\u001b[0m\n\u001b[0m\u001b[1;32m     12\u001b[0m         \u001b[0;32mif\u001b[0m \u001b[0mcurrent\u001b[0m\u001b[0;34m[\u001b[0m\u001b[0;36m0\u001b[0m\u001b[0;34m]\u001b[0m \u001b[0;34m==\u001b[0m \u001b[0;36m0\u001b[0m\u001b[0;34m:\u001b[0m\u001b[0;34m\u001b[0m\u001b[0;34m\u001b[0m\u001b[0m\n\u001b[1;32m     13\u001b[0m             \u001b[0;32mcontinue\u001b[0m\u001b[0;34m\u001b[0m\u001b[0;34m\u001b[0m\u001b[0m\n",
      "\u001b[0;31mTypeError\u001b[0m: 'NoneType' object is not iterable"
     ]
    }
   ],
   "source": [
    "for n in range(3,12):\n",
    "    P = random_instance_TSP(n)\n",
    "    start_time = time()\n",
    "    best_path = TSP_brute_force(P)\n",
    "    delay = time()-start_time\n",
    "    best_random = TSP_randomized(P, delay)\n",
    "    if abs(path_length(P,best_random)-path_length(P,best_path)) < 1e-10: # si l'écart est petit on le considère nul (arrondis)\n",
    "        print(n, \"optimal trouvé\")\n",
    "    else:\n",
    "        print(n, \"optimal non trouvé\")"
   ]
  },
  {
   "cell_type": "markdown",
   "metadata": {},
   "source": [
    "Le procédé aléatoire ne s'en sort pas si mal pour des petites valeurs de $n$, mais ce sont de valeurs où on peut utiliser la recherche exhaustive. A quoi ressemble une solution aléatoire en laissant 20 secondes pour 50 villes ? Essayons avec le test ci-dessous."
   ]
  },
  {
   "cell_type": "code",
   "execution_count": null,
   "metadata": {},
   "outputs": [],
   "source": [
    "P = random_instance_TSP(50)\n",
    "best_random = TSP_randomized(P, 20)\n",
    "draw_instance_TSP(P,best_random)"
   ]
  },
  {
   "cell_type": "markdown",
   "metadata": {},
   "source": [
    "On peut démontrer mathématiquement que dans une solution optimal il n'y a pas de croisement. A moins que vous n'ayez eu beaucoup de chance, cela ne doit pas être le cas sur l'exemple que vous venez de faire."
   ]
  },
  {
   "cell_type": "markdown",
   "metadata": {},
   "source": [
    "## 4. Algorithme génétique\n",
    "\n",
    "Il existe beaucoup de méthodes heuristiques pour essayer sinon de résoudre le problème TSP, au moins d'en donner une solution pas trop loin de l'optimal. Nous allons maintenant étudier une de ces méthodes, qui n'est pas forcément la plus efficace, mais qui est assez générique.\n",
    "\n",
    "**Question 8.** Ecrire une fonction `rand_order_end_max(n)` qui retourne un ordre aléatoire parmi ceux qui terminent par $n-1$."
   ]
  },
  {
   "cell_type": "code",
   "execution_count": null,
   "metadata": {},
   "outputs": [],
   "source": [
    "def rand_order_end_max(n): # à vous de jouer\n",
    "    pass\n",
    "\n",
    "# pour tester, vérifiez qu'ils terminent bien tous par 9 et qu'ils ont l'air \"mélangés\"\n",
    "for _ in range(10):\n",
    "    print(rand_order_end_max(10))"
   ]
  },
  {
   "cell_type": "markdown",
   "metadata": {},
   "source": [
    "On cherche à mettre au point un *algorithme génétique*. L'idée de telles heuristiques est de mimer l'évolution d'un espèce. Pour cela il faut :\n",
    "- une **population** : pour nous ce sera une liste d'ordres (avec leur score = longueur du chemin associé)\n",
    "- une fonction de **reproduction** : pour créer un nouvel ordre à partir de deux parents \n",
    "- une fonction de **mutation** : pour modifier un peu un ordre\n",
    "\n",
    "Le principe, décrit en détail plus bas, consiste en une série de générations où on élimine les individus les plus faibles, on fait se reproduire les survivants, on fait muter quelques individus, et on fait venir quelques étrangers (pour varier les gènes). \n",
    "\n",
    "**Question 9.** Ecrire une fonction `reproduce_ij(o1, o2, i, j)` qui prend en argument deux ordres de même taille $n$ appelés  $o_1$ et $o_2$ et deux indices $i$ et $j$ avec $0\\leq i \\leq j < n$. La fonction créé un nouvel ordre $o$ à partir de $o_1$ et de $o_2$ de la façon suivante :\n",
    "- les valeurs de $o$ entre les indices $i$ et $j$ sont les mêmes que dans $o_1$\n",
    "- les autres valeurs de $o$ apparaissent dans le même ordre que dans $o_2$\n",
    "\n",
    "Par exemple :\n",
    "$$\n",
    "\\begin{array}{c|cccccc}\n",
    "& & & i & & j & \\\\\n",
    "\\hline\n",
    "o_1 & 4 & 5 & 0 & 3 & 1 & 2 \\\\\n",
    "o_2 & 1 & 4 & 2 & 0 & 5 & 3 \\\\\n",
    "\\end{array}\n",
    "\\qquad\n",
    "\\longrightarrow\n",
    "\\qquad\n",
    "\\begin{array}{c|cccccc}\n",
    "& & & i & & j & \\\\\n",
    "\\hline\n",
    "o & 4 & 2 & 0 & 3 & 1 & 5 \n",
    "\\end{array}\n",
    "$$\n",
    "\n",
    "**Important :** essayez de faire une fonction efficace, c'est crucial pour l'efficacité de la méthode. "
   ]
  },
  {
   "cell_type": "code",
   "execution_count": null,
   "metadata": {},
   "outputs": [],
   "source": [
    "def reproduce_ij(o1, o2, i, j): # à vous de jouer\n",
    "    pass\n",
    "\n",
    "# vérification sur l'exemple donné\n",
    "o1 = [4, 5, 0, 3, 1, 2]\n",
    "o2 = [1, 4, 2, 0, 5, 3]\n",
    "print(reproduce(o1,o2,2,4))"
   ]
  },
  {
   "cell_type": "markdown",
   "metadata": {},
   "source": [
    "On utilisera en fait la fonction suivante, qui tire au sort $i$ et $j$ avant d'appeler `reproduce_ij`:"
   ]
  },
  {
   "cell_type": "code",
   "execution_count": null,
   "metadata": {},
   "outputs": [],
   "source": [
    "def reproduce(o1, o2):\n",
    "    i, j = randrange(len(o1)), randrange(len(o2)) # randrange(n) tire au sort un entier entre 0 et n-1\n",
    "    return reproduce_ij(o1, o2, min(i,j), max(i,j))"
   ]
  },
  {
   "cell_type": "markdown",
   "metadata": {},
   "source": [
    "**Question 10.** Ecrire la fonction `mutate(o)` qui tire au sort deux indices $i$ et $j$ entre $0$ et $n-2$, où $n$ est la longueur de $o$ et qui échange les valeurs $o[i]$ et $o[j]$ (les deux indices peuvent être égaux). Attention, c'est bien $n-2$ car on veut garder $n-1$ comme dernière étape. L'ordre $o$ est modifié sur place et renvoyé par la fonction."
   ]
  },
  {
   "cell_type": "code",
   "execution_count": null,
   "metadata": {},
   "outputs": [],
   "source": [
    "def mutate(o): # à vous de jouer\n",
    "    pass"
   ]
  },
  {
   "cell_type": "markdown",
   "metadata": {},
   "source": [
    "**Question 11.** Ecrire la fonction `TSP_genetics(P, amount_of_time = 20, pop_size=100, mutation_nb = 5, foreigners_nb=5)` dont les paramètres sont les suivants :\n",
    "- `P` est la liste des villes\n",
    "- `amount_of_time` c'est le temps de calcul autorisé, en secondes\n",
    "- `pop_size` c'est le nombre d'individus au total à chaque génération dans la population (c'est un nombre pair)\n",
    "- `mutation_nb` c'est le nombre d'individus qui mutent à chaque génération\n",
    "- `foreigners_nb` c'est le nombre d'étrangers qui intègrent la population\n",
    "\n",
    "Pour l'algorithme proprement dit :\n",
    "- La population est initialisée comme une liste de `pop_size` ordres aléatoires obtenus avec `rand_order_end_max(n)`. Je vous conseil de ne pas stocker juste l'ordre, mais un couple `(longueur, ordre)`, où `longueur` est la longueur du circuit obtenu en parcourant les villes selon `ordre`. Cela évite de le recalculer inutilement.\n",
    "- On fait des itérations de la boucle principale (nouvelle génération) temps qu'il nous reste du temps de calcul. A chaque fois :\n",
    "    - chaque individu à l'indice $i$ se \"bat\" avec celui à l'indice $i+1$, celui qui a la plus petite `longueur` survit, l'autre meurt ;\n",
    "    - on complète la population en faisant des reproductions aléatoires parmi les survivants jusqu'à avoir atteint `amount_of_time`-`foreigners_nb` individus au total (n'oubliez pas de calculer la longueur des nouveaux-nés) ;\n",
    "    - on fait muter `mutation_nb` individus au hasard (n'oubliez pas de recalculer la longueur) ;\n",
    "    - on ajoute `foreigners_nb` nouveaux ordres aléatoires pour atteindre la bonne population.\n",
    "    - on mélange la population avec `shuffle`\n",
    "- Quand c'est terminé, on retourne l'individu de plus petite longueur dans la population (si vous avez respecté l'ordre `(longueur, ordre)` il suffit d'utiliser la fonction `min` sur la liste de la population."
   ]
  },
  {
   "cell_type": "code",
   "execution_count": null,
   "metadata": {},
   "outputs": [],
   "source": [
    "def TSP_genetics(P, amount_of_time = 10, pop_size=100, mutation_nb = 5, foreigners_nb=5): # à vous de jouer\n",
    "    pass"
   ]
  },
  {
   "cell_type": "markdown",
   "metadata": {},
   "source": [
    "On peut maintenant tester : faîtes tourner le script ci-dessous où on accorde 10 secondes à l'algorithme aléatoire, et 10 secondes à l'algorithme génétique. Essayez ensuite avec 60 secondes pour les deux."
   ]
  },
  {
   "cell_type": "code",
   "execution_count": null,
   "metadata": {},
   "outputs": [],
   "source": [
    "n = 50\n",
    "P = random_instance_TSP(n)\n",
    "\n",
    "path = TSP_randomized(P,10)\n",
    "draw_instance_TSP(P,path)\n",
    "print(\"best randomized \", path_length(P,path))\n",
    "\n",
    "path = TSP_genetics(P,10)\n",
    "draw_instance_TSP(P,path)\n",
    "print(\"best genetic \", path_length(P,path))"
   ]
  },
  {
   "cell_type": "markdown",
   "metadata": {},
   "source": [
    "## 5. Aller plus loin, quelques pistes\n",
    "\n",
    "Si vous avez terminé vous pouvez essayer :\n",
    "- de faire varier les paramètres de l'algorithme génétique pour essayer d'optimiser les résultats (et même inventer une méthode pour essayer d'optimiser les paramètres) ;\n",
    "- de regarder d'autres façons de faire la sélection dans les algorithmes génétiques sur le web et les implanter pour comparer les performances ;\n",
    "- de détecter des croisements dans le chemin suivant un ordre, et de les \"décroiser\" : on gagne en performance en décroisant un peu, mais un décroisement peut introduire de nouveaux croisements et c'est une perte de temps de vouloir tout décroiser, il faut décroiser *un peu mais pas trop*."
   ]
  }
 ],
 "metadata": {
  "kernelspec": {
   "display_name": "Python 3",
   "language": "python",
   "name": "python3"
  },
  "language_info": {
   "codemirror_mode": {
    "name": "ipython",
    "version": 3
   },
   "file_extension": ".py",
   "mimetype": "text/x-python",
   "name": "python",
   "nbconvert_exporter": "python",
   "pygments_lexer": "ipython3",
   "version": "3.8.1"
  }
 },
 "nbformat": 4,
 "nbformat_minor": 2
}
